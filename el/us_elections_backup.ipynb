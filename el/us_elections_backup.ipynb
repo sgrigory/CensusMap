{
 "cells": [
  {
   "cell_type": "code",
   "execution_count": 227,
   "metadata": {
    "collapsed": false
   },
   "outputs": [],
   "source": [
    "import pandas as pd\n",
    "import numpy as np\n",
    "import seaborn as sns\n",
    "import matplotlib.pyplot as plt\n",
    "from matplotlib import colors as mcolors,cm,colorbar\n",
    "import scipy\n",
    "import shapefile\n",
    "import re\n",
    "import json"
   ]
  },
  {
   "cell_type": "code",
   "execution_count": 228,
   "metadata": {
    "collapsed": false
   },
   "outputs": [],
   "source": [
    "#https://www.kaggle.com/benhamner/2016-us-election"
   ]
  },
  {
   "cell_type": "code",
   "execution_count": 229,
   "metadata": {
    "collapsed": false
   },
   "outputs": [
    {
     "data": {
      "text/plain": [
       "130188251"
      ]
     },
     "execution_count": 229,
     "metadata": {},
     "output_type": "execute_result"
    }
   ],
   "source": [
    "61201031 +62523126 +6464094 "
   ]
  },
  {
   "cell_type": "markdown",
   "metadata": {
    "collapsed": true
   },
   "source": [
    "## THIS copy is for the map app"
   ]
  },
  {
   "cell_type": "markdown",
   "metadata": {
    "collapsed": false
   },
   "source": [
    "## Load election results"
   ]
  },
  {
   "cell_type": "code",
   "execution_count": 230,
   "metadata": {
    "collapsed": false
   },
   "outputs": [],
   "source": [
    "el=pd.read_csv(\"2016_US_County_Level_Presidential_Results.csv\")"
   ]
  },
  {
   "cell_type": "code",
   "execution_count": 231,
   "metadata": {
    "collapsed": false
   },
   "outputs": [],
   "source": [
    "by_state=el[~((el.state_abbr=='AK')& (el.combined_fips!=2013))].groupby('state_abbr')['votes_dem','votes_gop','total_votes'].aggregate(sum)"
   ]
  },
  {
   "cell_type": "code",
   "execution_count": 232,
   "metadata": {
    "collapsed": true
   },
   "outputs": [],
   "source": [
    "el['per_dem']=100*el['per_dem']\n",
    "el['per_gop']=100*el['per_gop']"
   ]
  },
  {
   "cell_type": "code",
   "execution_count": 233,
   "metadata": {
    "collapsed": false
   },
   "outputs": [],
   "source": [
    "by_state['per_dem']=100*by_state['votes_dem']/by_state['total_votes']\n",
    "by_state['per_gop']=100*by_state['votes_gop']/by_state['total_votes']"
   ]
  },
  {
   "cell_type": "code",
   "execution_count": 234,
   "metadata": {
    "collapsed": false
   },
   "outputs": [],
   "source": [
    "oglala=el.index[(el['state_abbr']=='SD')& (el['county_name']=='Oglala County')].values[0]\n",
    "el.loc[oglala,'combined_fips'] = 46102\n",
    "el.loc[oglala,'county_name'] = 'Oglala Lakota County'"
   ]
  },
  {
   "cell_type": "code",
   "execution_count": 235,
   "metadata": {
    "collapsed": false
   },
   "outputs": [],
   "source": [
    "kusilvak=el.index[(el['state_abbr']=='AK')& (el['combined_fips']==2270)].values[0]\n",
    "el.loc[kusilvak,'combined_fips'] = 2158\n",
    "el.loc[kusilvak,'county_name'] = 'Kusilvak'"
   ]
  },
  {
   "cell_type": "code",
   "execution_count": null,
   "metadata": {
    "collapsed": false
   },
   "outputs": [],
   "source": []
  },
  {
   "cell_type": "markdown",
   "metadata": {},
   "source": [
    "## Shapefile for counties"
   ]
  },
  {
   "cell_type": "code",
   "execution_count": 236,
   "metadata": {
    "collapsed": true
   },
   "outputs": [],
   "source": [
    "sf=shapefile.Reader(\"cb_2015_us_county_5m.shp\")\n",
    "shapes=sf.shapes()\n",
    "col_names=[x[0] for x in sf.fields][1:]\n",
    "records=pd.DataFrame([dict(zip(*[col_names, x])) for x in sf.records()])"
   ]
  },
  {
   "cell_type": "code",
   "execution_count": 237,
   "metadata": {
    "collapsed": false
   },
   "outputs": [],
   "source": [
    "outlying=[2,60,3,81,7,64,14,66,84,86,67,89,71,76,69,70,95,72,74,52,78,79,15]"
   ]
  },
  {
   "cell_type": "code",
   "execution_count": 238,
   "metadata": {
    "collapsed": false
   },
   "outputs": [],
   "source": [
    "records['combined_fips']=[int(x.STATEFP+x.COUNTYFP) for i,x in records.iterrows()]\n",
    "records['points']=[x.points for x in shapes]\n",
    "records['parts']=[x.parts for x in shapes]\n",
    "records['geo_interface']=[x.__geo_interface__ for x in shapes]"
   ]
  },
  {
   "cell_type": "code",
   "execution_count": 239,
   "metadata": {
    "collapsed": false
   },
   "outputs": [],
   "source": [
    "merged=pd.merge(el[['combined_fips','per_dem','per_gop','total_votes']],\n",
    "         records,on='combined_fips',how='inner'\n",
    ")"
   ]
  },
  {
   "cell_type": "code",
   "execution_count": null,
   "metadata": {
    "collapsed": false
   },
   "outputs": [],
   "source": []
  },
  {
   "cell_type": "code",
   "execution_count": null,
   "metadata": {
    "collapsed": false
   },
   "outputs": [],
   "source": []
  },
  {
   "cell_type": "markdown",
   "metadata": {},
   "source": [
    "## States"
   ]
  },
  {
   "cell_type": "code",
   "execution_count": 240,
   "metadata": {
    "collapsed": true
   },
   "outputs": [],
   "source": [
    "state_shapes_file=shapefile.Reader(\"cb_2015_us_state_5m.shp\")\n",
    "state_shapes=state_shapes_file.shapes()\n",
    "state_col_names=[x[0] for x in state_shapes_file.fields][1:]\n",
    "state_records=pd.DataFrame([dict(zip(*[state_col_names, x])) for x in state_shapes_file.records()])\n",
    "state_records['points']=[x.points for x in state_shapes]\n",
    "state_records['parts']=[x.parts for x in state_shapes]\n",
    "state_records['geo_interface']=[x.__geo_interface__ for x in state_shapes]\n",
    "state_records=state_records.set_index('STUSPS')\n",
    "merged_states=pd.merge(state_records,by_state,left_index=True,right_index=True)"
   ]
  },
  {
   "cell_type": "code",
   "execution_count": null,
   "metadata": {
    "collapsed": false
   },
   "outputs": [],
   "source": []
  },
  {
   "cell_type": "code",
   "execution_count": null,
   "metadata": {
    "collapsed": false
   },
   "outputs": [],
   "source": []
  },
  {
   "cell_type": "code",
   "execution_count": null,
   "metadata": {
    "collapsed": false
   },
   "outputs": [],
   "source": []
  },
  {
   "cell_type": "markdown",
   "metadata": {},
   "source": [
    "## Load Country facts"
   ]
  },
  {
   "cell_type": "code",
   "execution_count": 241,
   "metadata": {
    "collapsed": false
   },
   "outputs": [],
   "source": [
    "import sqlite3"
   ]
  },
  {
   "cell_type": "code",
   "execution_count": 242,
   "metadata": {
    "collapsed": false
   },
   "outputs": [
    {
     "data": {
      "text/plain": [
       "[(u'primary_results',), (u'county_facts',), (u'county_facts_dictionary',)]"
      ]
     },
     "execution_count": 242,
     "metadata": {},
     "output_type": "execute_result"
    }
   ],
   "source": [
    "conn=sqlite3.connect('database.sqlite')\n",
    "curs=conn.cursor()\n",
    "res=curs.execute(\"select name from sqlite_master where type='table'\")\n",
    "res.fetchall()"
   ]
  },
  {
   "cell_type": "code",
   "execution_count": 243,
   "metadata": {
    "collapsed": false
   },
   "outputs": [],
   "source": [
    "res=curs.execute(\"select * from county_facts\")\n",
    "country_facts=pd.DataFrame(res.fetchall())\n",
    "res=curs.execute(\"select * from county_facts_dictionary\")\n",
    "header=pd.DataFrame(res.fetchall())"
   ]
  },
  {
   "cell_type": "code",
   "execution_count": 244,
   "metadata": {
    "collapsed": false
   },
   "outputs": [],
   "source": [
    "lst=['combined_fips','name','abbr']\n",
    "lst.extend(header[0].values)\n",
    "country_facts.columns=lst"
   ]
  },
  {
   "cell_type": "code",
   "execution_count": 245,
   "metadata": {
    "collapsed": false
   },
   "outputs": [],
   "source": [
    "header=header.set_index(0)\n",
    "header[0]=header.index"
   ]
  },
  {
   "cell_type": "code",
   "execution_count": 246,
   "metadata": {
    "collapsed": false
   },
   "outputs": [],
   "source": [
    "header_percent=header[~header[1].apply(lambda x: re.search(\"percent|rate|pct\",x) is None)]\n",
    "header_extensive=header[header[1].apply(lambda x: re.search(\"percent|rate|minutes|median|Median|per |Per |pct\",x) is None)]\n",
    "header_extensive=header_extensive.drop('PST045214')"
   ]
  },
  {
   "cell_type": "code",
   "execution_count": 247,
   "metadata": {
    "collapsed": false
   },
   "outputs": [],
   "source": [
    "\n",
    "for i,x in header.iterrows():\n",
    "    country_facts[x[0]]=country_facts[x[0]].astype(float)\n",
    "#for i,x in header_percent.iterrows():\n",
    "#    country_facts[x[0]]=country_facts[x[0]]\n",
    "\n",
    "for i,x in header_extensive.iterrows():\n",
    "    country_facts[x[0]]=country_facts[x[0]]/country_facts['PST045214']"
   ]
  },
  {
   "cell_type": "code",
   "execution_count": 248,
   "metadata": {
    "collapsed": false
   },
   "outputs": [],
   "source": [
    "country_facts['HSG495213']=country_facts['HSG495213']/1000"
   ]
  },
  {
   "cell_type": "code",
   "execution_count": 249,
   "metadata": {
    "collapsed": true
   },
   "outputs": [],
   "source": [
    "country_facts[\"INC910213\"]=country_facts[\"INC910213\"]/1000"
   ]
  },
  {
   "cell_type": "code",
   "execution_count": 250,
   "metadata": {
    "collapsed": true
   },
   "outputs": [],
   "source": [
    "country_facts[\"INC110213\"]=country_facts[\"INC110213\"]/1000 "
   ]
  },
  {
   "cell_type": "code",
   "execution_count": 251,
   "metadata": {
    "collapsed": true
   },
   "outputs": [],
   "source": [
    "country_facts[\"BPS030214\"]=country_facts[\"BPS030214\"]*1000 "
   ]
  },
  {
   "cell_type": "code",
   "execution_count": null,
   "metadata": {
    "collapsed": false
   },
   "outputs": [],
   "source": []
  },
  {
   "cell_type": "markdown",
   "metadata": {},
   "source": [
    "### about states again"
   ]
  },
  {
   "cell_type": "code",
   "execution_count": 252,
   "metadata": {
    "collapsed": false
   },
   "outputs": [],
   "source": [
    "#header['percent_zeros']=[np.mean(merged3[x]==0) for x in header[0]]\n",
    "merged_states['abbr']=merged_states.index"
   ]
  },
  {
   "cell_type": "code",
   "execution_count": 253,
   "metadata": {
    "collapsed": false
   },
   "outputs": [],
   "source": [
    "tmp=country_facts[country_facts.abbr=='']\n",
    "del tmp['abbr']\n",
    "merged3_states=pd.merge(merged_states,tmp,left_on='NAME',right_on='name')"
   ]
  },
  {
   "cell_type": "code",
   "execution_count": 254,
   "metadata": {
    "collapsed": true
   },
   "outputs": [],
   "source": [
    "alaska=np.array(np.array(state_shapes_file.shapes())[np.array([x[4]=='AK' for x in state_shapes_file.records()])][0].points)\n",
    "texas=merged3_states[merged3_states.NAME=='Texas'].points\n",
    "al_center=np.array(alaska).mean(axis=0)\n",
    "tex_center=np.array(texas[42]).mean(axis=0)\n",
    "small_al=0.5*(np.array(alaska)-al_center)+al_center\n",
    "alaska_moved=np.array([small_al[:,0],small_al[:,1]-al_center[1]+tex_center[1]])"
   ]
  },
  {
   "cell_type": "code",
   "execution_count": 255,
   "metadata": {
    "collapsed": true
   },
   "outputs": [],
   "source": [
    "hawaii=merged3_states[merged3_states.NAME=='Hawaii'].points\n",
    "hi_center=np.array(hawaii[10]).mean(axis=0)"
   ]
  },
  {
   "cell_type": "code",
   "execution_count": 256,
   "metadata": {
    "collapsed": false
   },
   "outputs": [],
   "source": [
    "olala=country_facts[(country_facts['abbr']=='SD')& (country_facts['name']=='Shannon County')].index[0]\n",
    "country_facts.loc[olala,'combined_fips'] = 46102\n",
    "country_facts.loc[olala,'name'] = 'Oglala Lakota County'"
   ]
  },
  {
   "cell_type": "code",
   "execution_count": 257,
   "metadata": {
    "collapsed": true
   },
   "outputs": [],
   "source": [
    "kusilvak=country_facts[(country_facts['abbr']=='AK')& (country_facts['name']=='Wade Hampton Census Area')].index[0]\n",
    "country_facts.loc[kusilvak,'combined_fips'] = 2158\n",
    "country_facts.loc[kusilvak,'name'] = 'Kusilvak'"
   ]
  },
  {
   "cell_type": "code",
   "execution_count": 258,
   "metadata": {
    "collapsed": false
   },
   "outputs": [],
   "source": [
    "#row=merged[['combined_fips','STATEFP','per_dem','per_gop','total_votes']].loc[0]"
   ]
  },
  {
   "cell_type": "code",
   "execution_count": 259,
   "metadata": {
    "collapsed": false
   },
   "outputs": [],
   "source": [
    "#to_append=pd.DataFrame([{'combined_fips':x,'STATEFP':'02','per_dem':row['per_dem'],'per_gop':row['per_gop'],'total_votes':'NA'} for x in country_facts[country_facts.abbr=='AK'].combined_fips])"
   ]
  },
  {
   "cell_type": "code",
   "execution_count": 260,
   "metadata": {
    "collapsed": false
   },
   "outputs": [],
   "source": [
    "tab1=merged[['combined_fips','STATEFP','per_dem','per_gop','total_votes']]\n",
    "#to_append.index=pd.RangeIndex(start=tab1.shape[0], stop=tab1.shape[0]+29, step=1)\n",
    "#tab1=pd.concat([tab1,to_append])"
   ]
  },
  {
   "cell_type": "code",
   "execution_count": 261,
   "metadata": {
    "collapsed": false
   },
   "outputs": [],
   "source": [
    "merged2=pd.merge(tab1,country_facts,on='combined_fips')\n",
    "merged3=pd.merge(merged2,records,on='combined_fips')\n",
    "merged3['STATEFP']=merged3.STATEFP_x\n",
    "#merged3.drop('PST045214',axis=1,inplace=True)\n",
    "#header.drop('PST045214',inplace=True)"
   ]
  },
  {
   "cell_type": "code",
   "execution_count": 262,
   "metadata": {
    "collapsed": false
   },
   "outputs": [
    {
     "data": {
      "text/html": [
       "<table border=\"1\" class=\"dataframe\">\n",
       "  <thead>\n",
       "    <tr style=\"text-align: right;\">\n",
       "      <th></th>\n",
       "      <th>PST045214</th>\n",
       "      <th>PST040210</th>\n",
       "      <th>PST120214</th>\n",
       "      <th>POP010210</th>\n",
       "      <th>AGE135214</th>\n",
       "      <th>AGE295214</th>\n",
       "      <th>AGE775214</th>\n",
       "      <th>SEX255214</th>\n",
       "      <th>RHI125214</th>\n",
       "      <th>RHI225214</th>\n",
       "      <th>RHI325214</th>\n",
       "      <th>RHI425214</th>\n",
       "      <th>RHI525214</th>\n",
       "      <th>RHI625214</th>\n",
       "      <th>RHI725214</th>\n",
       "      <th>RHI825214</th>\n",
       "      <th>POP715213</th>\n",
       "      <th>POP645213</th>\n",
       "      <th>POP815213</th>\n",
       "      <th>EDU635213</th>\n",
       "      <th>EDU685213</th>\n",
       "      <th>VET605213</th>\n",
       "      <th>LFE305213</th>\n",
       "      <th>HSG010214</th>\n",
       "      <th>HSG445213</th>\n",
       "      <th>HSG096213</th>\n",
       "      <th>HSG495213</th>\n",
       "      <th>HSD410213</th>\n",
       "      <th>HSD310213</th>\n",
       "      <th>INC910213</th>\n",
       "      <th>INC110213</th>\n",
       "      <th>PVY020213</th>\n",
       "      <th>BZA010213</th>\n",
       "      <th>BZA110213</th>\n",
       "      <th>BZA115213</th>\n",
       "      <th>NES010213</th>\n",
       "      <th>SBO001207</th>\n",
       "      <th>SBO315207</th>\n",
       "      <th>SBO115207</th>\n",
       "      <th>SBO215207</th>\n",
       "      <th>SBO515207</th>\n",
       "      <th>SBO415207</th>\n",
       "      <th>SBO015207</th>\n",
       "      <th>MAN450207</th>\n",
       "      <th>WTN220207</th>\n",
       "      <th>RTN130207</th>\n",
       "      <th>RTN131207</th>\n",
       "      <th>AFN120207</th>\n",
       "      <th>BPS030214</th>\n",
       "      <th>LND110210</th>\n",
       "      <th>POP060210</th>\n",
       "    </tr>\n",
       "  </thead>\n",
       "  <tbody>\n",
       "    <tr>\n",
       "      <th>1</th>\n",
       "      <td>Population, 2014 estimate</td>\n",
       "      <td>Population, 2010 (April 1) estimates base</td>\n",
       "      <td>Population, percent change - April 1, 2010 to ...</td>\n",
       "      <td>Population, 2010</td>\n",
       "      <td>Persons under 5 years, percent, 2014</td>\n",
       "      <td>Persons under 18 years, percent, 2014</td>\n",
       "      <td>Persons 65 years and over, percent, 2014</td>\n",
       "      <td>Female persons, percent, 2014</td>\n",
       "      <td>White alone, percent, 2014</td>\n",
       "      <td>Black or African American alone, percent, 2014</td>\n",
       "      <td>American Indian and Alaska Native alone, perce...</td>\n",
       "      <td>Asian alone, percent, 2014</td>\n",
       "      <td>Native Hawaiian and Other Pacific Islander alo...</td>\n",
       "      <td>Two or More Races, percent, 2014</td>\n",
       "      <td>Hispanic or Latino, percent, 2014</td>\n",
       "      <td>White alone, not Hispanic or Latino, percent, ...</td>\n",
       "      <td>Living in same house 1 year &amp; over, percent, 2...</td>\n",
       "      <td>Foreign born persons, percent, 2009-2013</td>\n",
       "      <td>Language other than English spoken at home, pc...</td>\n",
       "      <td>High school graduate or higher, percent of per...</td>\n",
       "      <td>Bachelor's degree or higher, percent of person...</td>\n",
       "      <td>Veterans, 2009-2013</td>\n",
       "      <td>Mean travel time to work (minutes), workers ag...</td>\n",
       "      <td>Housing units, 2014</td>\n",
       "      <td>Homeownership rate, 2009-2013</td>\n",
       "      <td>Housing units in multi-unit structures, percen...</td>\n",
       "      <td>Median value of owner-occupied housing units, ...</td>\n",
       "      <td>Households, 2009-2013</td>\n",
       "      <td>Persons per household, 2009-2013</td>\n",
       "      <td>Per capita money income in past 12 months (201...</td>\n",
       "      <td>Median household income, 2009-2013</td>\n",
       "      <td>Persons below poverty level, percent, 2009-2013</td>\n",
       "      <td>Private nonfarm establishments, 2013</td>\n",
       "      <td>Private nonfarm employment,  2013</td>\n",
       "      <td>Private nonfarm employment, percent change, 20...</td>\n",
       "      <td>Nonemployer establishments, 2013</td>\n",
       "      <td>Total number of firms, 2007</td>\n",
       "      <td>Black-owned firms, percent, 2007</td>\n",
       "      <td>American Indian- and Alaska Native-owned firms...</td>\n",
       "      <td>Asian-owned firms, percent, 2007</td>\n",
       "      <td>Native Hawaiian- and Other Pacific Islander-ow...</td>\n",
       "      <td>Hispanic-owned firms, percent, 2007</td>\n",
       "      <td>Women-owned firms, percent, 2007</td>\n",
       "      <td>Manufacturers shipments, 2007 ($1,000)</td>\n",
       "      <td>Merchant wholesaler sales, 2007 ($1,000)</td>\n",
       "      <td>Retail sales, 2007 ($1,000)</td>\n",
       "      <td>Retail sales per capita, 2007</td>\n",
       "      <td>Accommodation and food services sales, 2007 ($...</td>\n",
       "      <td>Building permits, 2014</td>\n",
       "      <td>Land area in square miles, 2010</td>\n",
       "      <td>Population per square mile, 2010</td>\n",
       "    </tr>\n",
       "    <tr>\n",
       "      <th>0</th>\n",
       "      <td>PST045214</td>\n",
       "      <td>PST040210</td>\n",
       "      <td>PST120214</td>\n",
       "      <td>POP010210</td>\n",
       "      <td>AGE135214</td>\n",
       "      <td>AGE295214</td>\n",
       "      <td>AGE775214</td>\n",
       "      <td>SEX255214</td>\n",
       "      <td>RHI125214</td>\n",
       "      <td>RHI225214</td>\n",
       "      <td>RHI325214</td>\n",
       "      <td>RHI425214</td>\n",
       "      <td>RHI525214</td>\n",
       "      <td>RHI625214</td>\n",
       "      <td>RHI725214</td>\n",
       "      <td>RHI825214</td>\n",
       "      <td>POP715213</td>\n",
       "      <td>POP645213</td>\n",
       "      <td>POP815213</td>\n",
       "      <td>EDU635213</td>\n",
       "      <td>EDU685213</td>\n",
       "      <td>VET605213</td>\n",
       "      <td>LFE305213</td>\n",
       "      <td>HSG010214</td>\n",
       "      <td>HSG445213</td>\n",
       "      <td>HSG096213</td>\n",
       "      <td>HSG495213</td>\n",
       "      <td>HSD410213</td>\n",
       "      <td>HSD310213</td>\n",
       "      <td>INC910213</td>\n",
       "      <td>INC110213</td>\n",
       "      <td>PVY020213</td>\n",
       "      <td>BZA010213</td>\n",
       "      <td>BZA110213</td>\n",
       "      <td>BZA115213</td>\n",
       "      <td>NES010213</td>\n",
       "      <td>SBO001207</td>\n",
       "      <td>SBO315207</td>\n",
       "      <td>SBO115207</td>\n",
       "      <td>SBO215207</td>\n",
       "      <td>SBO515207</td>\n",
       "      <td>SBO415207</td>\n",
       "      <td>SBO015207</td>\n",
       "      <td>MAN450207</td>\n",
       "      <td>WTN220207</td>\n",
       "      <td>RTN130207</td>\n",
       "      <td>RTN131207</td>\n",
       "      <td>AFN120207</td>\n",
       "      <td>BPS030214</td>\n",
       "      <td>LND110210</td>\n",
       "      <td>POP060210</td>\n",
       "    </tr>\n",
       "  </tbody>\n",
       "</table>"
      ],
      "text/plain": [
       "<IPython.core.display.HTML object>"
      ]
     },
     "execution_count": 262,
     "metadata": {},
     "output_type": "execute_result"
    }
   ],
   "source": [
    "from IPython.display import HTML\n",
    "HTML(header.T.to_html())"
   ]
  },
  {
   "cell_type": "markdown",
   "metadata": {},
   "source": [
    "## Write down maxmins"
   ]
  },
  {
   "cell_type": "code",
   "execution_count": 263,
   "metadata": {
    "collapsed": false
   },
   "outputs": [],
   "source": [
    "lst=[\"per_dem\",\"per_gop\",\"total_votes\",u'PST120214',     u'AGE135214',     u'AGE295214',\n",
    "           u'AGE775214',     u'SEX255214',     u'RHI225214',     u'RHI425214',\n",
    "           u'RHI625214',     u'RHI725214',     u'RHI825214',     u'POP715213',\n",
    "           u'POP645213',     u'POP815213',     u'EDU635213',     u'EDU685213',\n",
    "           u'VET605213',     u'LFE305213',     u'HSG010214',     u'HSG445213',\n",
    "           u'HSG096213',     u'HSG495213',     u'HSD310213',     u'INC910213',\n",
    "           u'INC110213',     u'PVY020213',     u'BZA010213',     u'BZA110213',\n",
    "           u'BZA115213',     u'NES010213',     u'SBO001207',     u'SBO315207',\n",
    "           u'SBO415207',     u'SBO015207',     u'MAN450207',     u'WTN220207',\n",
    "           u'RTN131207',     u'AFN120207',     u'BPS030214',     u'POP060210']\n",
    "\n",
    "hd1=header.append(pd.DataFrame({\"per_dem\":pd.Series({1:\"Votes for Democrats, percent, 2016\",0:\"per_dem\"}),\n",
    "                                \"per_gop\":pd.Series({1:\"Votes for GOP, percent, 2016\",0:\"per_gop\"}),\n",
    "                                \"total_votes\":pd.Series({1:\"Total votes\",0:\"total_votes\"})\n",
    "                               }).T)\n"
   ]
  },
  {
   "cell_type": "code",
   "execution_count": 264,
   "metadata": {
    "collapsed": false
   },
   "outputs": [],
   "source": [
    "hd1[1]=np.array([u'Population, 2014 estimate',u'Population, 2010 (April 1) estimates base',\n",
    "       u'Population, percent change - April 1, 2010 to July 1, 2014',\n",
    "       u'Population, 2010', u'Persons under 5 years, percent, 2014',\n",
    "       u'Persons under 18 years, percent, 2014',\n",
    "       u'Persons 65 years and over, percent, 2014',\n",
    "       u'Female persons, percent, 2014', u'White alone, percent, 2014',\n",
    "       u'Black or African American alone, percent, 2014',\n",
    "       u'American Indian and Alaska Native alone, percent, 2014',\n",
    "       u'Asian alone, percent, 2014',\n",
    "       u'Native Hawaiian and Other Pacific Islander alone, percent, 2014',\n",
    "       u'Two or More Races, percent, 2014',\n",
    "       u'Hispanic or Latino, percent, 2014',\n",
    "       u'White alone, not Hispanic or Latino, percent, 2014',\n",
    "       u'Living in same house 1 year & over, percent, 2009-2013',\n",
    "       u'Foreign born persons, percent, 2009-2013',\n",
    "       u'Language other than English spoken at home, pct age 5+, 2009-2013',\n",
    "       u'High school graduate or higher, percent of persons age 25+, 2009-2013',\n",
    "       u\"Bachelor's degree or higher, percent of persons age 25+, 2009-2013\",\n",
    "       u'Veterans, percent, 2009-2013',\n",
    "       u'Mean travel time to work (minutes), workers age 16+, 2009-2013',\n",
    "       u'Housing units per capita, 2014', u'Homeownership rate, 2009-2013',\n",
    "       u'Housing units in multi-unit structures, percent, 2009-2013',\n",
    "       u'Median value of owner-occupied housing units, 2009-2013 ($1,000)',\n",
    "       u'Households, 2009-2013', u'Persons per household, 2009-2013',\n",
    "       u'Per capita money income in past 12 months, 2009-2013 ($1,000, 2013 dollars)',\n",
    "       u'Median household income, 2009-2013 ($1,000)',\n",
    "       u'Persons below poverty level, percent, 2009-2013',\n",
    "       u'Private nonfarm establishments per capita, 2013',\n",
    "       u'Private nonfarm employment per capita,  2013',\n",
    "       u'Private nonfarm employment, percent change, 2012-2013',\n",
    "       u'Nonemployer establishments per capita, 2013', u'Total number of firms per capita, 2007',\n",
    "       u'Black-owned firms, percent, 2007',\n",
    "       u'American Indian- and Alaska Native-owned firms, percent, 2007',\n",
    "       u'Asian-owned firms, percent, 2007',\n",
    "       u'Native Hawaiian- and Other Pacific Islander-owned firms, percent, 2007',\n",
    "       u'Hispanic-owned firms, percent, 2007',\n",
    "       u'Women-owned firms, percent, 2007',\n",
    "       u'Manufacturers shipments per capita, 2007 ($1,000)',\n",
    "       u'Merchant wholesaler sales per capita, 2007 ($1,000)',\n",
    "       u'Retail sales per capita, 2007 ($1,000)', u'Retail sales per capita, 2007',\n",
    "       u'Accommodation and food services sales per capita, 2007 ($1,000)',\n",
    "       u'Building permits per 1000 people, 2014', u'Land area in square miles, 2010',\n",
    "       u'Population per square mile, 2010',\n",
    "       'Votes for Democrats, percent, 2016',\n",
    "       'Votes for GOP, percent, 2016', 'Total votes'], dtype=object)"
   ]
  },
  {
   "cell_type": "code",
   "execution_count": 265,
   "metadata": {
    "collapsed": true
   },
   "outputs": [],
   "source": [
    "lst=list(hd1.index)"
   ]
  },
  {
   "cell_type": "code",
   "execution_count": 266,
   "metadata": {
    "collapsed": true
   },
   "outputs": [],
   "source": [
    "maxmins_counties = {\"mins\":merged3[lst].quantile(0.1).to_dict(),\"maxs\":merged3[lst].quantile(0.9).to_dict(),\n",
    "                \"names\":hd1.T[lst].loc[1].to_dict()}\n",
    "maxmins_states = {\"mins\":merged3_states[lst].quantile(0.1).to_dict(),\"maxs\":merged3_states[lst].quantile(0.9).to_dict(),\n",
    "                \"names\":hd1.T[lst].loc[1].to_dict()}"
   ]
  },
  {
   "cell_type": "code",
   "execution_count": 267,
   "metadata": {
    "collapsed": true
   },
   "outputs": [],
   "source": [
    "maxmins_counties['maxs']['SBO515207']=merged3['SBO515207'].quantile(0.99)"
   ]
  },
  {
   "cell_type": "code",
   "execution_count": 268,
   "metadata": {
    "collapsed": false
   },
   "outputs": [],
   "source": [
    "jsn=json.dumps({\"counties\":maxmins_counties,\"states\":maxmins_states})\n",
    "file_json=open(\"maxmins.json\",\"wt\")\n",
    "file_json.write(jsn)\n",
    "file_json.close()"
   ]
  },
  {
   "cell_type": "markdown",
   "metadata": {},
   "source": [
    "## Convert to geoJSON"
   ]
  },
  {
   "cell_type": "code",
   "execution_count": 269,
   "metadata": {
    "collapsed": false
   },
   "outputs": [],
   "source": [
    "def ff(row):\n",
    "# if (len(row.parts)<2):\n",
    "   #     tp = 'Polygon'\n",
    "#     pts = [row.points]\n",
    "   # else:\n",
    "#     tp = 'MultiPolygon'\n",
    "   #     pts=[[row.points[row.parts[i]:row.parts[i+1]] for i in range(len(row.parts)-1)]]\n",
    "    dt={'geometry':row.geo_interface,\"type\":'Feature',\"properties\":dict(row)}\n",
    "    del dt['properties']['points']\n",
    "    del dt['properties']['parts']\n",
    "    del dt['properties']['geo_interface']\n",
    "    return dt"
   ]
  },
  {
   "cell_type": "code",
   "execution_count": 270,
   "metadata": {
    "collapsed": true
   },
   "outputs": [],
   "source": [
    "features=[ff(row) for i,row in merged3.iterrows()]"
   ]
  },
  {
   "cell_type": "code",
   "execution_count": 271,
   "metadata": {
    "collapsed": true
   },
   "outputs": [],
   "source": [
    "features_states=[ff(row) for i,row in merged3_states.iterrows()]"
   ]
  },
  {
   "cell_type": "code",
   "execution_count": 272,
   "metadata": {
    "collapsed": true
   },
   "outputs": [],
   "source": [
    "shrink=0.2\n",
    "def trans1(x):\n",
    "    y=[[[[(p[0]-al_center[0])*shrink+al_center[0]+23,(p[1]-al_center[1])*shrink+tex_center[1]-2] for p in z] for z in w] for w in x]\n",
    "    #print('trans1', x,y)\n",
    "    return y\n",
    "def trans2(x):\n",
    "    y=[[[(p[0]-al_center[0])*shrink+al_center[0]+23,(p[1]-al_center[1])*shrink+tex_center[1]-2] for p in w] for w in x]\n",
    "    #print('trans2', x,y)\n",
    "    return y"
   ]
  },
  {
   "cell_type": "code",
   "execution_count": 273,
   "metadata": {
    "collapsed": false
   },
   "outputs": [],
   "source": [
    "features_states[0]['geometry']['coordinates']=trans1(features_states[0]['geometry']['coordinates'])"
   ]
  },
  {
   "cell_type": "code",
   "execution_count": 274,
   "metadata": {
    "collapsed": false
   },
   "outputs": [],
   "source": [
    "ak_ind=np.arange(len(features))[np.array([x['properties']['abbr']=='AK' for x in features])]\n",
    "for i in ak_ind:\n",
    "    if (features[i]['geometry']['type']=='MultiPolygon'):\n",
    "        features[i]['geometry']['coordinates']=trans1(features[i]['geometry']['coordinates']);\n",
    "    else: \n",
    "        features[i]['geometry']['coordinates']=trans2(features[i]['geometry']['coordinates']);"
   ]
  },
  {
   "cell_type": "code",
   "execution_count": 275,
   "metadata": {
    "collapsed": true
   },
   "outputs": [],
   "source": [
    "shrink=1\n",
    "def trans3(x):\n",
    "    y=[[[[(p[0]-hi_center[0])*shrink+al_center[0]+24,p[1]+5] for p in z] for z in w] for w in x]\n",
    "    #print('trans1', x,y)\n",
    "    return y\n",
    "def trans4(x):\n",
    "    y=[[[(p[0]-hi_center[0])*shrink+al_center[0]+24,p[1]+5] for p in w] for w in x]\n",
    "    #print('trans2', x,y)\n",
    "    return y\n",
    "features_states[10]['geometry']['coordinates']=trans3(features_states[10]['geometry']['coordinates'])\n",
    "hi_ind=np.arange(len(features))[np.array([x['properties']['abbr']=='HI' for x in features])]\n",
    "for i in hi_ind:\n",
    "    if (features[i]['geometry']['type']=='MultiPolygon'):\n",
    "        features[i]['geometry']['coordinates']=trans3(features[i]['geometry']['coordinates']);\n",
    "    else: \n",
    "        features[i]['geometry']['coordinates']=trans4(features[i]['geometry']['coordinates']);"
   ]
  },
  {
   "cell_type": "code",
   "execution_count": 276,
   "metadata": {
    "collapsed": false
   },
   "outputs": [],
   "source": [
    "final_json={\"type\":\"FeatureCollection\",\"features\":features}\n",
    "json_output=open(\"test.json\",\"wt\")\n",
    "json.dump(final_json,json_output)\n",
    "json_output.close()"
   ]
  },
  {
   "cell_type": "code",
   "execution_count": 277,
   "metadata": {
    "collapsed": false
   },
   "outputs": [],
   "source": [
    "final_json={\"type\":\"FeatureCollection\",\"features\":features_states}\n",
    "json_output=open(\"test_states.json\",\"wt\")\n",
    "json.dump(final_json,json_output)\n",
    "json_output.close()"
   ]
  },
  {
   "cell_type": "code",
   "execution_count": 285,
   "metadata": {
    "collapsed": false
   },
   "outputs": [
    {
     "data": {
      "text/plain": [
       "32.033010540915981"
      ]
     },
     "execution_count": 285,
     "metadata": {},
     "output_type": "execute_result"
    }
   ],
   "source": [
    "[-148.716968,61.288254],[-157.524452,21.146768]"
   ]
  },
  {
   "cell_type": "code",
   "execution_count": 287,
   "metadata": {
    "collapsed": false
   },
   "outputs": [
    {
     "data": {
      "text/plain": [
       "[-121.30642032803243, 29.679606821701242]"
      ]
     },
     "execution_count": 287,
     "metadata": {},
     "output_type": "execute_result"
    }
   ],
   "source": [
    "shrink=0.2\n",
    "[(-148.716968-al_center[0])*shrink+al_center[0]+23,(61.288254-al_center[1])*shrink+tex_center[1]-2]"
   ]
  },
  {
   "cell_type": "code",
   "execution_count": 288,
   "metadata": {
    "collapsed": false
   },
   "outputs": [
    {
     "data": {
      "text/plain": [
       "[-119.67543714272617, 26.146768]"
      ]
     },
     "execution_count": 288,
     "metadata": {},
     "output_type": "execute_result"
    }
   ],
   "source": [
    "shrink=1\n",
    "[(-157.524452-hi_center[0])*shrink+al_center[0]+24,21.146768+5]"
   ]
  },
  {
   "cell_type": "code",
   "execution_count": 280,
   "metadata": {
    "collapsed": false
   },
   "outputs": [
    {
     "data": {
      "text/plain": [
       "58.346499350981581"
      ]
     },
     "execution_count": 280,
     "metadata": {},
     "output_type": "execute_result"
    }
   ],
   "source": [
    "al_center[1]"
   ]
  },
  {
   "cell_type": "code",
   "execution_count": 281,
   "metadata": {
    "collapsed": false
   },
   "outputs": [
    {
     "data": {
      "text/plain": [
       "31.091255891897557"
      ]
     },
     "execution_count": 281,
     "metadata": {},
     "output_type": "execute_result"
    }
   ],
   "source": [
    "tex_center[1]"
   ]
  },
  {
   "cell_type": "code",
   "execution_count": null,
   "metadata": {
    "collapsed": false
   },
   "outputs": [],
   "source": []
  },
  {
   "cell_type": "code",
   "execution_count": null,
   "metadata": {
    "collapsed": true
   },
   "outputs": [],
   "source": []
  }
 ],
 "metadata": {
  "anaconda-cloud": {},
  "kernelspec": {
   "display_name": "Python [conda env:cloned]",
   "language": "python",
   "name": "conda-env-cloned-py"
  },
  "language_info": {
   "codemirror_mode": {
    "name": "ipython",
    "version": 2
   },
   "file_extension": ".py",
   "mimetype": "text/x-python",
   "name": "python",
   "nbconvert_exporter": "python",
   "pygments_lexer": "ipython2",
   "version": "2.7.12"
  }
 },
 "nbformat": 4,
 "nbformat_minor": 1
}
