{
 "cells": [
  {
   "cell_type": "code",
   "execution_count": 1,
   "metadata": {
    "collapsed": true
   },
   "outputs": [],
   "source": [
    "import pandas as pd"
   ]
  },
  {
   "cell_type": "code",
   "execution_count": 4,
   "metadata": {
    "collapsed": false
   },
   "outputs": [],
   "source": [
    "el=pd.read_csv(\"2016_US_County_Level_Presidential_Results.csv\")"
   ]
  },
  {
   "cell_type": "code",
   "execution_count": 14,
   "metadata": {
    "collapsed": false
   },
   "outputs": [],
   "source": [
    "by_state=el.groupby('state_abbr')['votes_dem','votes_gop'].aggregate(sum)"
   ]
  },
  {
   "cell_type": "code",
   "execution_count": 21,
   "metadata": {
    "collapsed": false
   },
   "outputs": [
    {
     "data": {
      "text/html": [
       "<div>\n",
       "<table border=\"1\" class=\"dataframe\">\n",
       "  <thead>\n",
       "    <tr style=\"text-align: right;\">\n",
       "      <th></th>\n",
       "      <th>Unnamed: 0</th>\n",
       "      <th>votes_dem</th>\n",
       "      <th>votes_gop</th>\n",
       "      <th>total_votes</th>\n",
       "      <th>per_dem</th>\n",
       "      <th>per_gop</th>\n",
       "      <th>diff</th>\n",
       "      <th>per_point_diff</th>\n",
       "      <th>state_abbr</th>\n",
       "      <th>county_name</th>\n",
       "      <th>combined_fips</th>\n",
       "    </tr>\n",
       "  </thead>\n",
       "  <tbody>\n",
       "    <tr>\n",
       "      <th>173</th>\n",
       "      <td>173</td>\n",
       "      <td>25308.0</td>\n",
       "      <td>16573.0</td>\n",
       "      <td>44929.0</td>\n",
       "      <td>0.563289</td>\n",
       "      <td>0.368871</td>\n",
       "      <td>8,735</td>\n",
       "      <td>19.44%</td>\n",
       "      <td>AZ</td>\n",
       "      <td>Coconino County</td>\n",
       "      <td>4005</td>\n",
       "    </tr>\n",
       "  </tbody>\n",
       "</table>\n",
       "</div>"
      ],
      "text/plain": [
       "     Unnamed: 0  votes_dem  votes_gop  total_votes   per_dem   per_gop   diff  \\\n",
       "173         173    25308.0    16573.0      44929.0  0.563289  0.368871  8,735   \n",
       "\n",
       "    per_point_diff state_abbr      county_name  combined_fips  \n",
       "173         19.44%         AZ  Coconino County           4005  "
      ]
     },
     "execution_count": 21,
     "metadata": {},
     "output_type": "execute_result"
    }
   ],
   "source": [
    "el[el['county_name']=='Coconino County']"
   ]
  },
  {
   "cell_type": "code",
   "execution_count": 17,
   "metadata": {
    "collapsed": false
   },
   "outputs": [
    {
     "data": {
      "text/plain": [
       "state_abbr\n",
       "WY     0.321088\n",
       "WV     0.385557\n",
       "ND     0.432724\n",
       "OK     0.442845\n",
       "ID     0.465809\n",
       "SD     0.515773\n",
       "KY     0.522747\n",
       "AL     0.549445\n",
       "AR     0.558676\n",
       "NE     0.563704\n",
       "TN     0.571444\n",
       "UT     0.606495\n",
       "KS     0.632290\n",
       "MT     0.636659\n",
       "LA     0.661742\n",
       "IN     0.663115\n",
       "MO     0.665229\n",
       "MS     0.680958\n",
       "AK     0.713142\n",
       "SC     0.742795\n",
       "IA     0.814584\n",
       "TX     0.826176\n",
       "OH     0.835864\n",
       "GA     0.888175\n",
       "AZ     0.916855\n",
       "NC     0.924120\n",
       "FL     0.973994\n",
       "PA     0.976575\n",
       "WI     0.983707\n",
       "MI     0.994907\n",
       "NH     1.007901\n",
       "MN     1.033098\n",
       "NV     1.051698\n",
       "ME     1.059835\n",
       "CO     1.065720\n",
       "VA     1.107263\n",
       "NM     1.205300\n",
       "OR     1.258752\n",
       "DE     1.272702\n",
       "NJ     1.316665\n",
       "CT     1.323473\n",
       "RI     1.392825\n",
       "IL     1.405688\n",
       "WA     1.426353\n",
       "NY     1.569310\n",
       "MD     1.714597\n",
       "MA     1.814075\n",
       "VT     1.874523\n",
       "CA     1.880004\n",
       "HI     2.071397\n",
       "DC    22.524279\n",
       "dtype: float64"
      ]
     },
     "execution_count": 17,
     "metadata": {},
     "output_type": "execute_result"
    }
   ],
   "source": [
    "(by_state['votes_dem']/by_state['votes_gop']).sort_values()"
   ]
  },
  {
   "cell_type": "code",
   "execution_count": 22,
   "metadata": {
    "collapsed": false
   },
   "outputs": [
    {
     "ename": "ImportError",
     "evalue": "No module named shapefile",
     "output_type": "error",
     "traceback": [
      "\u001b[0;31m---------------------------------------------------------------------------\u001b[0m",
      "\u001b[0;31mImportError\u001b[0m                               Traceback (most recent call last)",
      "\u001b[0;32m<ipython-input-22-1972bb9dc6d1>\u001b[0m in \u001b[0;36m<module>\u001b[0;34m()\u001b[0m\n\u001b[0;32m----> 1\u001b[0;31m \u001b[0;32mimport\u001b[0m \u001b[0mshapefile\u001b[0m\u001b[0;34m\u001b[0m\u001b[0m\n\u001b[0m",
      "\u001b[0;31mImportError\u001b[0m: No module named shapefile"
     ]
    }
   ],
   "source": [
    "import shapefile"
   ]
  },
  {
   "cell_type": "code",
   "execution_count": null,
   "metadata": {
    "collapsed": true
   },
   "outputs": [],
   "source": []
  }
 ],
 "metadata": {
  "anaconda-cloud": {},
  "kernelspec": {
   "display_name": "Python [conda env:cloned]",
   "language": "python",
   "name": "conda-env-cloned-py"
  },
  "language_info": {
   "codemirror_mode": {
    "name": "ipython",
    "version": 2
   },
   "file_extension": ".py",
   "mimetype": "text/x-python",
   "name": "python",
   "nbconvert_exporter": "python",
   "pygments_lexer": "ipython2",
   "version": "2.7.12"
  }
 },
 "nbformat": 4,
 "nbformat_minor": 1
}
